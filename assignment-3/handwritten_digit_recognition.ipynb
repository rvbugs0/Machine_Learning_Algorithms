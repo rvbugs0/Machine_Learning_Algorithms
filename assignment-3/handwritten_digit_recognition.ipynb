{
 "cells": [
  {
   "cell_type": "code",
   "execution_count": 1,
   "metadata": {},
   "outputs": [],
   "source": [
    "\n",
    "from tensorflow.keras.datasets import mnist\n",
    "from sklearn.model_selection import train_test_split\n",
    "from tensorflow.keras.utils import to_categorical\n",
    "from NeuralNetwork import Sequential, LinearLayer, SigmoidLayer, SoftmaxLayer, CrossEntropyLoss, TanhLayer\n",
    "from sklearn.metrics import accuracy_score\n",
    "import numpy as np\n",
    "import matplotlib.pyplot as plt\n",
    "\n",
    "plt.rcParams['figure.figsize'] = (16.0, 8.0)"
   ]
  },
  {
   "cell_type": "code",
   "execution_count": 2,
   "metadata": {},
   "outputs": [],
   "source": [
    "epochs = 2000\n",
    "learning_rate =  0.2\n",
    "patience =5"
   ]
  },
  {
   "cell_type": "code",
   "execution_count": 3,
   "metadata": {},
   "outputs": [],
   "source": [
    "\n",
    "def plot_graphs(epoch_losses):\n",
    "    plt.subplot(1,2,1)\n",
    "    plt.xlabel(\"Epoch\")\n",
    "    plt.ylabel(\"Training (CE) Loss\")\n",
    "\n",
    "    epochs_column = epoch_losses[:, 0]\n",
    "    train_loss_column = epoch_losses[:, 1]\n",
    "    val_loss_column =epoch_losses[:, 2]\n",
    "\n",
    "    plt.plot(epochs_column, train_loss_column)\n",
    "\n",
    "\n",
    "    plt.subplot(1,2,2)\n",
    "    plt.xlabel(\"Epoch\")\n",
    "    plt.ylabel(\"Validation (CE) Loss\")\n",
    "    plt.plot(epochs_column, val_loss_column)"
   ]
  },
  {
   "cell_type": "code",
   "execution_count": 4,
   "metadata": {},
   "outputs": [],
   "source": [
    "# Load the MNIST dataset\n",
    "(X_train, y_train), (X_test, y_test) = mnist.load_data()\n",
    "\n",
    "\n",
    "# Preprocess the data\n",
    "X_train = X_train.reshape((60000, 784)) / 255.0\n",
    "X_test = X_test.reshape((10000, 784)) / 255.0\n",
    "y_train = to_categorical(y_train)\n",
    "y_test = to_categorical(y_test)\n",
    "\n",
    "# Create a validation set\n",
    "X_train, X_val, y_train, y_val = train_test_split(\n",
    "    X_train, y_train, test_size=0.1, random_state=42)\n"
   ]
  },
  {
   "cell_type": "code",
   "execution_count": 5,
   "metadata": {},
   "outputs": [
    {
     "name": "stdout",
     "output_type": "stream",
     "text": [
      "Epoch 45/2000: loss = 0.1618       Validation loss = 3.8873\r"
     ]
    }
   ],
   "source": [
    "# Add layers to the neural network\n",
    "model1 = Sequential()\n",
    "model1.add(LinearLayer(input_size=784, output_size=64))\n",
    "model1.add(TanhLayer())\n",
    "model1.add(LinearLayer(input_size=64, output_size=32))\n",
    "model1.add(TanhLayer())\n",
    "model1.add(LinearLayer(input_size=32, output_size=10))\n",
    "model1.add(SigmoidLayer())\n",
    "\n",
    "model1.train(X_train,y_train, epochs = epochs, learning_rate = learning_rate,loss_print_count=5,x_val= X_val,y_val = y_val,patience=patience)\n",
    "\n",
    "# Evaluate the neural network on the test set\n",
    "y_test_pred = model1.predict(X_test)\n",
    "\n",
    "print(\"Accuracy on test set - \", accuracy_score(y_test, y_test_pred), \"\\n\")\n"
   ]
  },
  {
   "cell_type": "code",
   "execution_count": null,
   "metadata": {},
   "outputs": [],
   "source": [
    "plot_graphs(model1.epoch_training_validation_loss)"
   ]
  },
  {
   "cell_type": "code",
   "execution_count": null,
   "metadata": {},
   "outputs": [],
   "source": [
    "model2 = Sequential()\n",
    "model2.add(LinearLayer(input_size=784, output_size=16))\n",
    "model2.add(TanhLayer())\n",
    "model2.add(LinearLayer(input_size=16, output_size=16))\n",
    "model2.add(TanhLayer())\n",
    "model2.add(LinearLayer(input_size=16, output_size=10))\n",
    "model2.add(SigmoidLayer())\n",
    "\n",
    "model2.train(X_train,y_train, epochs = epochs, learning_rate = 0.05,loss_print_count=5,x_val= X_val,y_val = y_val,patience=patience)\n",
    "\n",
    "# Evaluate the neural network on the test set\n",
    "y_test_pred = model2.predict(X_test)\n",
    "\n",
    "print(\"Accuracy on test set - \", accuracy_score(y_test, y_test_pred), \"\\n\")\n",
    "plot_graphs(model2.epoch_training_validation_loss)"
   ]
  },
  {
   "cell_type": "code",
   "execution_count": null,
   "metadata": {},
   "outputs": [],
   "source": [
    "model3 = Sequential()\n",
    "model3.add(LinearLayer(input_size=784, output_size=24))\n",
    "model3.add(TanhLayer())\n",
    "model3.add(LinearLayer(input_size=24, output_size=12))\n",
    "model3.add(TanhLayer())\n",
    "model3.add(LinearLayer(input_size=12, output_size=16))\n",
    "model3.add(TanhLayer())\n",
    "model3.add(LinearLayer(input_size=16, output_size=10))\n",
    "model3.add(SigmoidLayer())\n",
    "\n",
    "model3.train(X_train,y_train, epochs = epochs, learning_rate = 0.05,loss_print_count=5,x_val= X_val,y_val = y_val,patience=patience)\n",
    "\n",
    "# Evaluate the neural network on the test set\n",
    "y_test_pred = model3.predict(X_test)\n",
    "\n",
    "print(\"Accuracy on test set - \", accuracy_score(y_test, y_test_pred), \"\\n\")\n",
    "plot_graphs(model3.epoch_training_validation_loss)"
   ]
  }
 ],
 "metadata": {
  "kernelspec": {
   "display_name": "Python 3",
   "language": "python",
   "name": "python3"
  },
  "language_info": {
   "codemirror_mode": {
    "name": "ipython",
    "version": 3
   },
   "file_extension": ".py",
   "mimetype": "text/x-python",
   "name": "python",
   "nbconvert_exporter": "python",
   "pygments_lexer": "ipython3",
   "version": "3.10.9"
  },
  "orig_nbformat": 4
 },
 "nbformat": 4,
 "nbformat_minor": 2
}
