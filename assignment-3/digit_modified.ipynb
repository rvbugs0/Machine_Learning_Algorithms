{
 "cells": [
  {
   "cell_type": "code",
   "execution_count": null,
   "metadata": {},
   "outputs": [],
   "source": [
    "\n",
    "from tensorflow.keras.datasets import mnist\n",
    "from sklearn.model_selection import train_test_split\n",
    "from tensorflow.keras.utils import to_categorical\n",
    "\n",
    "from NeuralNetwork import Sequential, LinearLayer, SigmoidLayer, SoftmaxLayer, CrossEntropyLoss, TanhLayer"
   ]
  },
  {
   "cell_type": "code",
   "execution_count": null,
   "metadata": {},
   "outputs": [],
   "source": [
    "epochs = 100000000\n",
    "learning_rate =  0.1"
   ]
  },
  {
   "cell_type": "code",
   "execution_count": null,
   "metadata": {},
   "outputs": [],
   "source": [
    "# Load the MNIST dataset\n",
    "(X_train, y_train), (X_test, y_test) = mnist.load_data()\n",
    "\n",
    "\n",
    "# Preprocess the data\n",
    "X_train = X_train.reshape((60000, 784)) / 255.0\n",
    "X_test = X_test.reshape((10000, 784)) / 255.0\n",
    "y_train = to_categorical(y_train)\n",
    "y_test = to_categorical(y_test)\n",
    "\n",
    "# Create a validation set\n",
    "X_train, X_val, y_train, y_val = train_test_split(\n",
    "    X_train, y_train, test_size=0.1, random_state=42)\n"
   ]
  },
  {
   "cell_type": "code",
   "execution_count": null,
   "metadata": {},
   "outputs": [],
   "source": [
    "\n",
    "\n",
    "\n",
    "# Add layers to the neural network\n",
    "model = Sequential()\n",
    "model.add(LinearLayer(input_size=784, output_size=350))\n",
    "model.add(SigmoidLayer())\n",
    "model.add(LinearLayer(input_size=350, output_size=10))\n",
    "model.add(SigmoidLayer())\n",
    "\n",
    "# Define the loss function\n",
    "loss = CrossEntropyLoss()\n",
    "\n",
    "\n",
    "model.train(X_train,y_train,learning_rate = learning_rate,loss_print_count=25,x_val= X_val,y_val = y_val)\n",
    "\n",
    "# Evaluate the neural network on the test set\n",
    "y_test_pred = model.predict(X_test)\n",
    "test_loss = loss.forward(y_test_pred, y_test)\n",
    "print(f\"Test Loss={test_loss:.4f}\")\n",
    "\n",
    "best_val_loss = float(\"inf\")\n"
   ]
  }
 ],
 "metadata": {
  "kernelspec": {
   "display_name": "Python 3",
   "language": "python",
   "name": "python3"
  },
  "language_info": {
   "codemirror_mode": {
    "name": "ipython",
    "version": 3
   },
   "file_extension": ".py",
   "mimetype": "text/x-python",
   "name": "python",
   "nbconvert_exporter": "python",
   "pygments_lexer": "ipython3",
   "version": "3.10.9"
  },
  "orig_nbformat": 4
 },
 "nbformat": 4,
 "nbformat_minor": 2
}
