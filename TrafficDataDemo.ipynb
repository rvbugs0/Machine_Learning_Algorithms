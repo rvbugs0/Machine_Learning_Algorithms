{
 "cells": [
  {
   "cell_type": "code",
   "execution_count": 18,
   "metadata": {},
   "outputs": [
    {
     "name": "stdout",
     "output_type": "stream",
     "text": [
      "(1261, 36, 48)\n",
      "(1261, 36)\n",
      "1261\n"
     ]
    }
   ],
   "source": [
    "import numpy as np\n",
    "import pandas as pd\n",
    "import scipy.io as sio\n",
    "from sklearn.linear_model import LinearRegression\n",
    "\n",
    "data_path = \"data/traffic_dataset.mat\"\n",
    "\n",
    "# The provided data is given in a `.mat` file.\n",
    "# We can load it using the `scipy.io.loadmat` function.\n",
    "mat = sio.loadmat(data_path)\n",
    "input_train = mat['tra_X_tr']\n",
    "output_train = mat['tra_Y_tr'].T\n",
    "input_test = mat['tra_X_te']\n",
    "output_test = mat['tra_Y_te'].T\n",
    "adj_mat = mat['tra_adj_mat']\n",
    "\n",
    "input_train = input_train.squeeze()\n",
    "input_test = input_test.squeeze()\n",
    "\n",
    "# Convert the sparse matrix to a dense matrix\n",
    "data = []\n",
    "test_data = []\n",
    "\n",
    "for i in range(input_train.shape[0]):\n",
    "    data.append(input_train[i].todense())\n",
    "\n",
    "for i in range(input_test.shape[0]):\n",
    "    test_data.append(input_test[i].todense())\n",
    "\n",
    "# Convert the data to a numpy array\n",
    "data = np.array(data)\n",
    "test_data = np.array(test_data)\n",
    "\n",
    "print(data.shape)\n",
    "print(output_train.shape)\n",
    "\n"
   ]
  },
  {
   "cell_type": "code",
   "execution_count": null,
   "metadata": {},
   "outputs": [],
   "source": []
  },
  {
   "cell_type": "code",
   "execution_count": null,
   "metadata": {},
   "outputs": [],
   "source": []
  }
 ],
 "metadata": {
  "kernelspec": {
   "display_name": "Python 3 (ipykernel)",
   "language": "python",
   "name": "python3"
  },
  "language_info": {
   "codemirror_mode": {
    "name": "ipython",
    "version": 3
   },
   "file_extension": ".py",
   "mimetype": "text/x-python",
   "name": "python",
   "nbconvert_exporter": "python",
   "pygments_lexer": "ipython3",
   "version": "3.9.13"
  },
  "vscode": {
   "interpreter": {
    "hash": "53ef4221aa1ddcebf8ffe152ce07046cd10cba6b415b9c2173d01d52e94eb207"
   }
  }
 },
 "nbformat": 4,
 "nbformat_minor": 2
}
