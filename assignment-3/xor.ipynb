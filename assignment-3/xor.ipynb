{
 "cells": [
  {
   "cell_type": "code",
   "execution_count": 8,
   "metadata": {},
   "outputs": [],
   "source": [
    "import numpy as np\n",
    "from NeuralNetwork import LinearLayer,Sequential,SigmoidLayer,TanhLayer,SoftmaxLayer\n"
   ]
  },
  {
   "cell_type": "code",
   "execution_count": 9,
   "metadata": {},
   "outputs": [],
   "source": [
    "X = np.array([[0, 0], [0, 1], [1, 0], [1, 1]])\n",
    "y = np.array([[0], [1], [1], [0]])"
   ]
  },
  {
   "cell_type": "code",
   "execution_count": 10,
   "metadata": {},
   "outputs": [
    {
     "ename": "ValueError",
     "evalue": "shapes (4,2) and (1,2) not aligned: 2 (dim 1) != 1 (dim 0)",
     "output_type": "error",
     "traceback": [
      "\u001b[0;31m---------------------------------------------------------------------------\u001b[0m",
      "\u001b[0;31mValueError\u001b[0m                                Traceback (most recent call last)",
      "Cell \u001b[0;32mIn[10], line 9\u001b[0m\n\u001b[1;32m      5\u001b[0m model\u001b[39m.\u001b[39madd(LinearLayer(\u001b[39m2\u001b[39m, \u001b[39m1\u001b[39m))\n\u001b[1;32m      6\u001b[0m model\u001b[39m.\u001b[39madd(SigmoidLayer())\n\u001b[0;32m----> 9\u001b[0m model\u001b[39m.\u001b[39;49mtrain(X,to_categorical(y),learning_rate\u001b[39m=\u001b[39;49m\u001b[39m0.05\u001b[39;49m,patience\u001b[39m=\u001b[39;49m\u001b[39m5\u001b[39;49m,loss_print_count \u001b[39m=\u001b[39;49m \u001b[39m1000\u001b[39;49m,epochs\u001b[39m=\u001b[39;49m\u001b[39m100000\u001b[39;49m)\n\u001b[1;32m     10\u001b[0m output \u001b[39m=\u001b[39m model\u001b[39m.\u001b[39mpredict(X)\n\u001b[1;32m     12\u001b[0m \u001b[39mprint\u001b[39m(\u001b[39m\"\u001b[39m\u001b[39mPredictions:\u001b[39m\u001b[39m\"\u001b[39m)\n",
      "File \u001b[0;32m~/Documents/ml-assignments/assignment-3/NeuralNetwork.py:204\u001b[0m, in \u001b[0;36mSequential.train\u001b[0;34m(self, X, y, learning_rate, epochs, patience, loss_print_count, x_val, y_val)\u001b[0m\n\u001b[1;32m    201\u001b[0m \u001b[39m# backward pass\u001b[39;00m\n\u001b[1;32m    202\u001b[0m grad \u001b[39m=\u001b[39m loss\u001b[39m.\u001b[39mbackward()\n\u001b[0;32m--> 204\u001b[0m \u001b[39mself\u001b[39;49m\u001b[39m.\u001b[39;49mbackward(grad, learning_rate)\n\u001b[1;32m    206\u001b[0m \u001b[39m# check for convergence\u001b[39;00m\n\u001b[1;32m    207\u001b[0m \u001b[39mif\u001b[39;00m loss_val \u001b[39m<\u001b[39m best_loss :\n",
      "File \u001b[0;32m~/Documents/ml-assignments/assignment-3/NeuralNetwork.py:168\u001b[0m, in \u001b[0;36mSequential.backward\u001b[0;34m(self, output_gradient, learning_rate)\u001b[0m\n\u001b[1;32m    166\u001b[0m error \u001b[39m=\u001b[39m output_gradient\n\u001b[1;32m    167\u001b[0m \u001b[39mfor\u001b[39;00m layer \u001b[39min\u001b[39;00m \u001b[39mreversed\u001b[39m(\u001b[39mself\u001b[39m\u001b[39m.\u001b[39mlayers):\n\u001b[0;32m--> 168\u001b[0m     error \u001b[39m=\u001b[39m layer\u001b[39m.\u001b[39;49mbackward(error, learning_rate)\n\u001b[1;32m    169\u001b[0m \u001b[39mreturn\u001b[39;00m error\n",
      "File \u001b[0;32m~/Documents/ml-assignments/assignment-3/NeuralNetwork.py:41\u001b[0m, in \u001b[0;36mLinearLayer.backward\u001b[0;34m(self, error, learning_rate)\u001b[0m\n\u001b[1;32m     40\u001b[0m \u001b[39mdef\u001b[39;00m \u001b[39mbackward\u001b[39m(\u001b[39mself\u001b[39m, error, learning_rate):\n\u001b[0;32m---> 41\u001b[0m     grad_input \u001b[39m=\u001b[39m np\u001b[39m.\u001b[39;49mdot(error, \u001b[39mself\u001b[39;49m\u001b[39m.\u001b[39;49mweights\u001b[39m.\u001b[39;49mT)\n\u001b[1;32m     43\u001b[0m     grad_weights \u001b[39m=\u001b[39m np\u001b[39m.\u001b[39mdot(\u001b[39mself\u001b[39m\u001b[39m.\u001b[39minput\u001b[39m.\u001b[39mT, error)\n\u001b[1;32m     44\u001b[0m     grad_bias \u001b[39m=\u001b[39m np\u001b[39m.\u001b[39msum(error, axis\u001b[39m=\u001b[39m\u001b[39m0\u001b[39m, keepdims\u001b[39m=\u001b[39m\u001b[39mTrue\u001b[39;00m)\n",
      "File \u001b[0;32m<__array_function__ internals>:180\u001b[0m, in \u001b[0;36mdot\u001b[0;34m(*args, **kwargs)\u001b[0m\n",
      "\u001b[0;31mValueError\u001b[0m: shapes (4,2) and (1,2) not aligned: 2 (dim 1) != 1 (dim 0)"
     ]
    }
   ],
   "source": [
    "# Using all sigmoid layers\n",
    "model = Sequential()\n",
    "model.add(LinearLayer(2, 2))\n",
    "model.add(SigmoidLayer())\n",
    "model.add(LinearLayer(2, 1))\n",
    "model.add(SigmoidLayer())\n",
    "\n",
    "\n",
    "model.train(X,y,learning_rate=0.05,patience=5,loss_print_count = 1000,epochs=100000)\n",
    "output = model.predict(X)\n",
    "\n",
    "print(\"Predictions:\")\n",
    "binary_outputs = np.where(output >= 0.5, 1, 0)\n",
    "print(binary_outputs)\n"
   ]
  },
  {
   "cell_type": "code",
   "execution_count": null,
   "metadata": {},
   "outputs": [],
   "source": [
    "# using tanh \n",
    "model = Sequential()\n",
    "model.add(LinearLayer(2, 2))\n",
    "model.add(TanhLayer())\n",
    "model.add(LinearLayer(2, 1))\n",
    "model.add(SigmoidLayer())\n",
    "model.train(X,y,learning_rate=0.05,patience=5,epochs=10000)\n",
    "\n",
    "# evaluate the trained model\n",
    "output = model.predict(X)\n",
    "\n",
    "print(\"Predictions:\")\n",
    "binary_outputs = np.where(output >= 0.5, 1, 0)\n",
    "print(binary_outputs)\n"
   ]
  },
  {
   "attachments": {},
   "cell_type": "markdown",
   "metadata": {},
   "source": [
    "Thus with tanh, even with less number of epochs, the model was able to converge and give better predictions. \n"
   ]
  },
  {
   "cell_type": "code",
   "execution_count": null,
   "metadata": {},
   "outputs": [],
   "source": [
    "model.save_weights(\"XOR_solved.w\")"
   ]
  },
  {
   "cell_type": "code",
   "execution_count": null,
   "metadata": {},
   "outputs": [],
   "source": [
    "model.load_weights(\"XOR_solved.w.npy\")"
   ]
  },
  {
   "cell_type": "code",
   "execution_count": null,
   "metadata": {},
   "outputs": [],
   "source": [
    "model.predict(X)\n",
    "print(\"Predictions:\")\n",
    "binary_outputs = np.where(output >= 0.5, 1, 0)\n",
    "print(binary_outputs)\n"
   ]
  }
 ],
 "metadata": {
  "kernelspec": {
   "display_name": "Python 3",
   "language": "python",
   "name": "python3"
  },
  "language_info": {
   "codemirror_mode": {
    "name": "ipython",
    "version": 3
   },
   "file_extension": ".py",
   "mimetype": "text/x-python",
   "name": "python",
   "nbconvert_exporter": "python",
   "pygments_lexer": "ipython3",
   "version": "3.10.9"
  },
  "orig_nbformat": 4
 },
 "nbformat": 4,
 "nbformat_minor": 2
}
