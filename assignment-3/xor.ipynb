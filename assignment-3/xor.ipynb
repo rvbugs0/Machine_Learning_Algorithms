{
 "cells": [
  {
   "cell_type": "code",
   "execution_count": 46,
   "metadata": {},
   "outputs": [],
   "source": [
    "import numpy as np\n",
    "from NeuralNetwork import LinearLayer,Sequential,SigmoidLayer,TanhLayer,SoftmaxLayer"
   ]
  },
  {
   "cell_type": "code",
   "execution_count": 47,
   "metadata": {},
   "outputs": [],
   "source": [
    "X = np.array([[0, 0], [0, 1], [1, 0], [1, 1]])\n",
    "y = np.array([[0], [1], [1], [0]])"
   ]
  },
  {
   "cell_type": "code",
   "execution_count": 48,
   "metadata": {},
   "outputs": [
    {
     "name": "stdout",
     "output_type": "stream",
     "text": [
      "Epoch 99000/100000: loss = 0.0006467395383082056\n",
      "Predictions:\n",
      "[[0]\n",
      " [1]\n",
      " [1]\n",
      " [0]]\n"
     ]
    }
   ],
   "source": [
    "# Using all sigmoid layers\n",
    "model = Sequential()\n",
    "model.add(LinearLayer(2, 2))\n",
    "model.add(SigmoidLayer())\n",
    "model.add(LinearLayer(2, 4))\n",
    "model.add(SigmoidLayer())\n",
    "model.add(LinearLayer(4, 1))\n",
    "model.add(SigmoidLayer())\n",
    "\n",
    "\n",
    "model.train(X,y,learning_rate=0.05,patience=5,loss_print_count = 1000,epochs=100000)\n",
    "output = model.predict(X)\n",
    "\n",
    "print(\"Predictions:\")\n",
    "binary_outputs = np.where(output >= 0.5, 1, 0)\n",
    "print(binary_outputs)\n"
   ]
  },
  {
   "cell_type": "code",
   "execution_count": 49,
   "metadata": {},
   "outputs": [
    {
     "name": "stdout",
     "output_type": "stream",
     "text": [
      "Epoch 9999/10000: loss = 0.026910218605623683\n",
      "Predictions:\n",
      "[[0]\n",
      " [1]\n",
      " [1]\n",
      " [0]]\n"
     ]
    }
   ],
   "source": [
    "# using tanh \n",
    "model = Sequential()\n",
    "model.add(LinearLayer(2, 2))\n",
    "model.add(TanhLayer())\n",
    "model.add(LinearLayer(2, 4))\n",
    "model.add(TanhLayer())\n",
    "model.add(LinearLayer(4, 1))\n",
    "model.add(SigmoidLayer())\n",
    "model.train(X,y,learning_rate=0.01,patience=5,epochs=10000)\n",
    "\n",
    "# evaluate the trained model\n",
    "output = model.predict(X)\n",
    "\n",
    "print(\"Predictions:\")\n",
    "binary_outputs = np.where(output >= 0.5, 1, 0)\n",
    "print(binary_outputs)\n"
   ]
  },
  {
   "attachments": {},
   "cell_type": "markdown",
   "metadata": {},
   "source": [
    "Thus with tanh , even with a smaller learning rate and less number of epochs, the model was able to converge and give better predictions. \n"
   ]
  },
  {
   "cell_type": "code",
   "execution_count": 50,
   "metadata": {},
   "outputs": [],
   "source": [
    "model.save_weights(\"XOR_solved.w\")"
   ]
  },
  {
   "cell_type": "code",
   "execution_count": 56,
   "metadata": {},
   "outputs": [],
   "source": [
    "model.load_weights(\"XOR_solved.w.npy\")"
   ]
  },
  {
   "cell_type": "code",
   "execution_count": 57,
   "metadata": {},
   "outputs": [
    {
     "name": "stdout",
     "output_type": "stream",
     "text": [
      "Predictions:\n",
      "[[0]\n",
      " [1]\n",
      " [1]\n",
      " [0]]\n"
     ]
    }
   ],
   "source": [
    "model.predict(X)\n",
    "print(\"Predictions:\")\n",
    "binary_outputs = np.where(output >= 0.5, 1, 0)\n",
    "print(binary_outputs)\n"
   ]
  }
 ],
 "metadata": {
  "kernelspec": {
   "display_name": "Python 3",
   "language": "python",
   "name": "python3"
  },
  "language_info": {
   "codemirror_mode": {
    "name": "ipython",
    "version": 3
   },
   "file_extension": ".py",
   "mimetype": "text/x-python",
   "name": "python",
   "nbconvert_exporter": "python",
   "pygments_lexer": "ipython3",
   "version": "3.10.9"
  },
  "orig_nbformat": 4
 },
 "nbformat": 4,
 "nbformat_minor": 2
}
