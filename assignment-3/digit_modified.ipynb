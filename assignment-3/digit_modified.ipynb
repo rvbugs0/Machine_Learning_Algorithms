{
 "cells": [
  {
   "cell_type": "code",
   "execution_count": null,
   "metadata": {},
   "outputs": [],
   "source": [
    "\n",
    "from tensorflow.keras.datasets import mnist\n",
    "from sklearn.model_selection import train_test_split\n",
    "from tensorflow.keras.utils import to_categorical\n",
    "\n",
    "from NeuralNetwork import Sequential, LinearLayer, SigmoidLayer, SoftmaxLayer, CrossEntropyLoss, TanhLayer"
   ]
  },
  {
   "cell_type": "code",
   "execution_count": null,
   "metadata": {},
   "outputs": [],
   "source": [
    "epochs = 1000\n",
    "learning_rate =  0.5"
   ]
  },
  {
   "cell_type": "code",
   "execution_count": null,
   "metadata": {},
   "outputs": [],
   "source": [
    "# Load the MNIST dataset\n",
    "(X_train, y_train), (X_test, y_test) = mnist.load_data()\n",
    "\n",
    "\n",
    "# Preprocess the data\n",
    "X_train = X_train.reshape((60000, 784)) / 255.0\n",
    "X_test = X_test.reshape((10000, 784)) / 255.0\n",
    "y_train = to_categorical(y_train)\n",
    "y_test = to_categorical(y_test)\n",
    "\n",
    "# Create a validation set\n",
    "X_train, X_val, y_train, y_val = train_test_split(\n",
    "    X_train, y_train, test_size=0.1, random_state=42)\n"
   ]
  },
  {
   "cell_type": "code",
   "execution_count": 16,
   "metadata": {},
   "outputs": [
    {
     "ename": "KeyboardInterrupt",
     "evalue": "",
     "output_type": "error",
     "traceback": [
      "\u001b[0;31m---------------------------------------------------------------------------\u001b[0m",
      "\u001b[0;31mKeyboardInterrupt\u001b[0m                         Traceback (most recent call last)",
      "Cell \u001b[0;32mIn[16], line 14\u001b[0m\n\u001b[1;32m     10\u001b[0m \u001b[39m# Define the loss function\u001b[39;00m\n\u001b[1;32m     11\u001b[0m loss \u001b[39m=\u001b[39m CrossEntropyLoss()\n\u001b[0;32m---> 14\u001b[0m model\u001b[39m.\u001b[39;49mtrain(X_train,y_train,learning_rate \u001b[39m=\u001b[39;49m learning_rate,loss_print_count\u001b[39m=\u001b[39;49m\u001b[39m5\u001b[39;49m,x_val\u001b[39m=\u001b[39;49m X_val,y_val \u001b[39m=\u001b[39;49m y_val)\n\u001b[1;32m     16\u001b[0m \u001b[39m# Evaluate the neural network on the test set\u001b[39;00m\n\u001b[1;32m     17\u001b[0m y_test_pred \u001b[39m=\u001b[39m model\u001b[39m.\u001b[39mpredict(X_test)\n",
      "File \u001b[0;32m~/Documents/ml-assignments/assignment-3/NeuralNetwork.py:184\u001b[0m, in \u001b[0;36mSequential.train\u001b[0;34m(self, X, y, learning_rate, epochs, patience, loss_print_count, x_val, y_val)\u001b[0m\n\u001b[1;32m    181\u001b[0m \u001b[39m# backward pass\u001b[39;00m\n\u001b[1;32m    182\u001b[0m grad \u001b[39m=\u001b[39m loss\u001b[39m.\u001b[39mbackward()\n\u001b[0;32m--> 184\u001b[0m \u001b[39mself\u001b[39;49m\u001b[39m.\u001b[39;49mbackward(grad, learning_rate)\n\u001b[1;32m    186\u001b[0m \u001b[39m# check for convergence\u001b[39;00m\n\u001b[1;32m    187\u001b[0m \u001b[39mif\u001b[39;00m loss_val \u001b[39m<\u001b[39m best_loss:\n",
      "File \u001b[0;32m~/Documents/ml-assignments/assignment-3/NeuralNetwork.py:150\u001b[0m, in \u001b[0;36mSequential.backward\u001b[0;34m(self, output_gradient, learning_rate)\u001b[0m\n\u001b[1;32m    148\u001b[0m error \u001b[39m=\u001b[39m output_gradient\n\u001b[1;32m    149\u001b[0m \u001b[39mfor\u001b[39;00m layer \u001b[39min\u001b[39;00m \u001b[39mreversed\u001b[39m(\u001b[39mself\u001b[39m\u001b[39m.\u001b[39mlayers):\n\u001b[0;32m--> 150\u001b[0m     error \u001b[39m=\u001b[39m layer\u001b[39m.\u001b[39;49mbackward(error, learning_rate)\n\u001b[1;32m    151\u001b[0m \u001b[39mreturn\u001b[39;00m error\n",
      "File \u001b[0;32m~/Documents/ml-assignments/assignment-3/NeuralNetwork.py:38\u001b[0m, in \u001b[0;36mLinearLayer.backward\u001b[0;34m(self, error, learning_rate)\u001b[0m\n\u001b[1;32m     35\u001b[0m \u001b[39mdef\u001b[39;00m \u001b[39mbackward\u001b[39m(\u001b[39mself\u001b[39m, error, learning_rate):\n\u001b[1;32m     36\u001b[0m     grad_input \u001b[39m=\u001b[39m np\u001b[39m.\u001b[39mdot(error, \u001b[39mself\u001b[39m\u001b[39m.\u001b[39mweights\u001b[39m.\u001b[39mT)\n\u001b[0;32m---> 38\u001b[0m     grad_weights \u001b[39m=\u001b[39m np\u001b[39m.\u001b[39;49mdot(\u001b[39mself\u001b[39;49m\u001b[39m.\u001b[39;49minput\u001b[39m.\u001b[39;49mT, error)\n\u001b[1;32m     39\u001b[0m     grad_bias \u001b[39m=\u001b[39m np\u001b[39m.\u001b[39msum(error, axis\u001b[39m=\u001b[39m\u001b[39m0\u001b[39m, keepdims\u001b[39m=\u001b[39m\u001b[39mTrue\u001b[39;00m)\n\u001b[1;32m     40\u001b[0m     \u001b[39mself\u001b[39m\u001b[39m.\u001b[39mweights \u001b[39m-\u001b[39m\u001b[39m=\u001b[39m learning_rate \u001b[39m*\u001b[39m grad_weights\n",
      "File \u001b[0;32m<__array_function__ internals>:180\u001b[0m, in \u001b[0;36mdot\u001b[0;34m(*args, **kwargs)\u001b[0m\n",
      "\u001b[0;31mKeyboardInterrupt\u001b[0m: "
     ]
    }
   ],
   "source": [
    "\n",
    "\n",
    "\n",
    "# Add layers to the neural network\n",
    "model = Sequential()\n",
    "model.add(LinearLayer(input_size=784, output_size=128))\n",
    "model.add(TanhLayer())\n",
    "model.add(LinearLayer(input_size=128, output_size=32))\n",
    "model.add(TanhLayer())\n",
    "model.add(LinearLayer(input_size=32, output_size=10))\n",
    "model.add(SigmoidLayer())\n",
    "\n",
    "# Define the loss function\n",
    "loss = CrossEntropyLoss()\n",
    "\n",
    "\n",
    "model.train(X_train,y_train,learning_rate = learning_rate,loss_print_count=5,x_val= X_val,y_val = y_val)\n",
    "\n",
    "# Evaluate the neural network on the test set\n",
    "y_test_pred = model.predict(X_test)\n",
    "test_loss = loss.forward(y_test_pred, y_test)\n",
    "print(f\"Test Loss={test_loss:.4f}\")\n",
    "\n",
    "best_val_loss = float(\"inf\")\n"
   ]
  }
 ],
 "metadata": {
  "kernelspec": {
   "display_name": "Python 3",
   "language": "python",
   "name": "python3"
  },
  "language_info": {
   "codemirror_mode": {
    "name": "ipython",
    "version": 3
   },
   "file_extension": ".py",
   "mimetype": "text/x-python",
   "name": "python",
   "nbconvert_exporter": "python",
   "pygments_lexer": "ipython3",
   "version": "3.10.9"
  },
  "orig_nbformat": 4
 },
 "nbformat": 4,
 "nbformat_minor": 2
}
